{
 "cells": [
  {
   "cell_type": "code",
   "execution_count": 50,
   "metadata": {},
   "outputs": [],
   "source": [
    "import glob\n",
    "import sys\n",
    "import os\n",
    "import argparse\n",
    "from networks import model_resnet_64px_prog\n",
    "import torch\n",
    "import numpy as np"
   ]
  },
  {
   "cell_type": "code",
   "execution_count": 5,
   "metadata": {},
   "outputs": [
    {
     "name": "stderr",
     "output_type": "stream",
     "text": [
      "/Users/cjb60/github/binary_gan/networks/model_resnet_64px_prog.py:21: UserWarning: nn.init.xavier_uniform is now deprecated in favor of nn.init.xavier_uniform_.\n",
      "  nn.init.xavier_uniform(self.dense.weight.data, 1.)\n",
      "/Users/cjb60/github/binary_gan/networks/model_resnet_64px_prog.py:22: UserWarning: nn.init.xavier_uniform is now deprecated in favor of nn.init.xavier_uniform_.\n",
      "  nn.init.xavier_uniform(self.final.weight.data, 1.)\n",
      "/Users/cjb60/github/binary_gan/networks/model_resnet.py:37: UserWarning: nn.init.xavier_uniform is now deprecated in favor of nn.init.xavier_uniform_.\n",
      "  nn.init.xavier_uniform(self.conv1.weight.data, 1.)\n",
      "/Users/cjb60/github/binary_gan/networks/model_resnet.py:38: UserWarning: nn.init.xavier_uniform is now deprecated in favor of nn.init.xavier_uniform_.\n",
      "  nn.init.xavier_uniform(self.conv2.weight.data, 1.)\n",
      "/Users/cjb60/github/binary_gan/networks/model_resnet.py:151: UserWarning: nn.init.xavier_uniform is now deprecated in favor of nn.init.xavier_uniform_.\n",
      "  nn.init.xavier_uniform(self.conv1.weight.data, 1.)\n",
      "/Users/cjb60/github/binary_gan/networks/model_resnet.py:152: UserWarning: nn.init.xavier_uniform is now deprecated in favor of nn.init.xavier_uniform_.\n",
      "  nn.init.xavier_uniform(self.conv2.weight.data, 1.)\n",
      "/Users/cjb60/github/binary_gan/networks/model_resnet.py:153: UserWarning: nn.init.xavier_uniform is now deprecated in favor of nn.init.xavier_uniform_.\n",
      "  nn.init.xavier_uniform(self.bypass_conv.weight.data, np.sqrt(2))\n",
      "/Users/cjb60/github/binary_gan/networks/model_resnet.py:105: UserWarning: nn.init.xavier_uniform is now deprecated in favor of nn.init.xavier_uniform_.\n",
      "  nn.init.xavier_uniform(self.conv1.weight.data, 1.)\n",
      "/Users/cjb60/github/binary_gan/networks/model_resnet.py:106: UserWarning: nn.init.xavier_uniform is now deprecated in favor of nn.init.xavier_uniform_.\n",
      "  nn.init.xavier_uniform(self.conv2.weight.data, 1.)\n",
      "/Users/cjb60/github/binary_gan/networks/model_resnet.py:131: UserWarning: nn.init.xavier_uniform is now deprecated in favor of nn.init.xavier_uniform_.\n",
      "  nn.init.xavier_uniform(self.bypass_conv.weight.data, np.sqrt(2))\n"
     ]
    },
    {
     "name": "stdout",
     "output_type": "stream",
     "text": [
      "Generator:\n",
      "Generator(\n",
      "  (dense): Linear(in_features=128, out_features=8192, bias=True)\n",
      "  (final): Conv2d(64, 3, kernel_size=(3, 3), stride=(1, 1), padding=(1, 1))\n",
      "  (rbn1): ResBlockGenerator(\n",
      "    (conv1): Conv2d(512, 512, kernel_size=(3, 3), stride=(1, 1), padding=(1, 1))\n",
      "    (conv2): Conv2d(512, 512, kernel_size=(3, 3), stride=(1, 1), padding=(1, 1))\n",
      "    (bn): BatchNorm2d(512, eps=1e-05, momentum=0.1, affine=True, track_running_stats=True)\n",
      "    (relu): ReLU()\n",
      "    (ups): Upsample(scale_factor=2, mode=nearest)\n",
      "    (bn2): BatchNorm2d(512, eps=1e-05, momentum=0.1, affine=True, track_running_stats=True)\n",
      "    (bypass): Sequential(\n",
      "      (0): Upsample(scale_factor=2, mode=nearest)\n",
      "    )\n",
      "  )\n",
      "  (rbn2): ResBlockGenerator(\n",
      "    (conv1): Conv2d(512, 256, kernel_size=(3, 3), stride=(1, 1), padding=(1, 1))\n",
      "    (conv2): Conv2d(256, 256, kernel_size=(3, 3), stride=(1, 1), padding=(1, 1))\n",
      "    (bn): BatchNorm2d(512, eps=1e-05, momentum=0.1, affine=True, track_running_stats=True)\n",
      "    (relu): ReLU()\n",
      "    (ups): Upsample(scale_factor=2, mode=nearest)\n",
      "    (bn2): BatchNorm2d(256, eps=1e-05, momentum=0.1, affine=True, track_running_stats=True)\n",
      "    (bypass): Sequential(\n",
      "      (0): Upsample(scale_factor=2, mode=nearest)\n",
      "      (1): Conv2d(512, 256, kernel_size=(1, 1), stride=(1, 1))\n",
      "    )\n",
      "  )\n",
      "  (rbn3): ResBlockGenerator(\n",
      "    (conv1): Conv2d(256, 128, kernel_size=(3, 3), stride=(1, 1), padding=(1, 1))\n",
      "    (conv2): Conv2d(128, 128, kernel_size=(3, 3), stride=(1, 1), padding=(1, 1))\n",
      "    (bn): BatchNorm2d(256, eps=1e-05, momentum=0.1, affine=True, track_running_stats=True)\n",
      "    (relu): ReLU()\n",
      "    (ups): Upsample(scale_factor=2, mode=nearest)\n",
      "    (bn2): BatchNorm2d(128, eps=1e-05, momentum=0.1, affine=True, track_running_stats=True)\n",
      "    (bypass): Sequential(\n",
      "      (0): Upsample(scale_factor=2, mode=nearest)\n",
      "      (1): Conv2d(256, 128, kernel_size=(1, 1), stride=(1, 1))\n",
      "    )\n",
      "  )\n",
      "  (rbn4): ResBlockGenerator(\n",
      "    (conv1): Conv2d(128, 64, kernel_size=(3, 3), stride=(1, 1), padding=(1, 1))\n",
      "    (conv2): Conv2d(64, 64, kernel_size=(3, 3), stride=(1, 1), padding=(1, 1))\n",
      "    (bn): BatchNorm2d(128, eps=1e-05, momentum=0.1, affine=True, track_running_stats=True)\n",
      "    (relu): ReLU()\n",
      "    (ups): Upsample(scale_factor=2, mode=nearest)\n",
      "    (bn2): BatchNorm2d(64, eps=1e-05, momentum=0.1, affine=True, track_running_stats=True)\n",
      "    (bypass): Sequential(\n",
      "      (0): Upsample(scale_factor=2, mode=nearest)\n",
      "      (1): Conv2d(128, 64, kernel_size=(1, 1), stride=(1, 1))\n",
      "    )\n",
      "  )\n",
      "  (bn): BatchNorm2d(64, eps=1e-05, momentum=0.1, affine=True, track_running_stats=True)\n",
      "  (relu): ReLU()\n",
      "  (tanh): Tanh()\n",
      ")\n",
      "Discriminator:\n",
      "Discriminator(\n",
      "  (model): Sequential(\n",
      "    (0): FirstResBlockDiscriminator(\n",
      "      (conv1): Conv2d(3, 64, kernel_size=(3, 3), stride=(1, 1), padding=(1, 1))\n",
      "      (conv2): Conv2d(64, 64, kernel_size=(3, 3), stride=(1, 1), padding=(1, 1))\n",
      "      (bypass_conv): Conv2d(3, 64, kernel_size=(1, 1), stride=(1, 1))\n",
      "      (model): Sequential(\n",
      "        (0): SpectralNorm(\n",
      "          (module): Conv2d(3, 64, kernel_size=(3, 3), stride=(1, 1), padding=(1, 1))\n",
      "        )\n",
      "        (1): ReLU()\n",
      "        (2): SpectralNorm(\n",
      "          (module): Conv2d(64, 64, kernel_size=(3, 3), stride=(1, 1), padding=(1, 1))\n",
      "        )\n",
      "        (3): AvgPool2d(kernel_size=2, stride=2, padding=0)\n",
      "      )\n",
      "      (bypass): Sequential(\n",
      "        (0): AvgPool2d(kernel_size=2, stride=2, padding=0)\n",
      "        (1): SpectralNorm(\n",
      "          (module): Conv2d(3, 64, kernel_size=(1, 1), stride=(1, 1))\n",
      "        )\n",
      "      )\n",
      "    )\n",
      "    (1): ResBlockDiscriminator(\n",
      "      (conv1): Conv2d(64, 128, kernel_size=(3, 3), stride=(1, 1), padding=(1, 1))\n",
      "      (conv2): Conv2d(128, 128, kernel_size=(3, 3), stride=(1, 1), padding=(1, 1))\n",
      "      (model): Sequential(\n",
      "        (0): ReLU()\n",
      "        (1): SpectralNorm(\n",
      "          (module): Conv2d(64, 128, kernel_size=(3, 3), stride=(1, 1), padding=(1, 1))\n",
      "        )\n",
      "        (2): ReLU()\n",
      "        (3): SpectralNorm(\n",
      "          (module): Conv2d(128, 128, kernel_size=(3, 3), stride=(1, 1), padding=(1, 1))\n",
      "        )\n",
      "        (4): AvgPool2d(kernel_size=2, stride=2, padding=0)\n",
      "      )\n",
      "      (bypass): Sequential(\n",
      "        (0): SpectralNorm(\n",
      "          (module): Conv2d(64, 128, kernel_size=(1, 1), stride=(1, 1))\n",
      "        )\n",
      "        (1): AvgPool2d(kernel_size=2, stride=2, padding=0)\n",
      "      )\n",
      "      (bypass_conv): Conv2d(64, 128, kernel_size=(1, 1), stride=(1, 1))\n",
      "    )\n",
      "    (2): ResBlockDiscriminator(\n",
      "      (conv1): Conv2d(128, 256, kernel_size=(3, 3), stride=(1, 1), padding=(1, 1))\n",
      "      (conv2): Conv2d(256, 256, kernel_size=(3, 3), stride=(1, 1), padding=(1, 1))\n",
      "      (model): Sequential(\n",
      "        (0): ReLU()\n",
      "        (1): SpectralNorm(\n",
      "          (module): Conv2d(128, 256, kernel_size=(3, 3), stride=(1, 1), padding=(1, 1))\n",
      "        )\n",
      "        (2): ReLU()\n",
      "        (3): SpectralNorm(\n",
      "          (module): Conv2d(256, 256, kernel_size=(3, 3), stride=(1, 1), padding=(1, 1))\n",
      "        )\n",
      "        (4): AvgPool2d(kernel_size=2, stride=2, padding=0)\n",
      "      )\n",
      "      (bypass): Sequential(\n",
      "        (0): SpectralNorm(\n",
      "          (module): Conv2d(128, 256, kernel_size=(1, 1), stride=(1, 1))\n",
      "        )\n",
      "        (1): AvgPool2d(kernel_size=2, stride=2, padding=0)\n",
      "      )\n",
      "      (bypass_conv): Conv2d(128, 256, kernel_size=(1, 1), stride=(1, 1))\n",
      "    )\n",
      "    (3): ResBlockDiscriminator(\n",
      "      (conv1): Conv2d(256, 512, kernel_size=(3, 3), stride=(1, 1), padding=(1, 1))\n",
      "      (conv2): Conv2d(512, 512, kernel_size=(3, 3), stride=(1, 1), padding=(1, 1))\n",
      "      (model): Sequential(\n",
      "        (0): ReLU()\n",
      "        (1): SpectralNorm(\n",
      "          (module): Conv2d(256, 512, kernel_size=(3, 3), stride=(1, 1), padding=(1, 1))\n",
      "        )\n",
      "        (2): ReLU()\n",
      "        (3): SpectralNorm(\n",
      "          (module): Conv2d(512, 512, kernel_size=(3, 3), stride=(1, 1), padding=(1, 1))\n",
      "        )\n",
      "        (4): AvgPool2d(kernel_size=2, stride=2, padding=0)\n",
      "      )\n",
      "      (bypass): Sequential(\n",
      "        (0): SpectralNorm(\n",
      "          (module): Conv2d(256, 512, kernel_size=(1, 1), stride=(1, 1))\n",
      "        )\n",
      "        (1): AvgPool2d(kernel_size=2, stride=2, padding=0)\n",
      "      )\n",
      "      (bypass_conv): Conv2d(256, 512, kernel_size=(1, 1), stride=(1, 1))\n",
      "    )\n",
      "    (4): ResBlockDiscriminator(\n",
      "      (conv1): Conv2d(512, 512, kernel_size=(3, 3), stride=(1, 1), padding=(1, 1))\n",
      "      (conv2): Conv2d(512, 512, kernel_size=(3, 3), stride=(1, 1), padding=(1, 1))\n",
      "      (model): Sequential(\n",
      "        (0): ReLU()\n",
      "        (1): SpectralNorm(\n",
      "          (module): Conv2d(512, 512, kernel_size=(3, 3), stride=(1, 1), padding=(1, 1))\n",
      "        )\n",
      "        (2): ReLU()\n",
      "        (3): SpectralNorm(\n",
      "          (module): Conv2d(512, 512, kernel_size=(3, 3), stride=(1, 1), padding=(1, 1))\n",
      "        )\n",
      "      )\n",
      "      (bypass): Sequential()\n",
      "    )\n",
      "    (5): ReLU()\n",
      "    (6): AvgPool2d(kernel_size=4, stride=4, padding=0)\n",
      "  )\n",
      "  (fc): SpectralNorm(\n",
      "    (module): Linear(in_features=512, out_features=1, bias=True)\n",
      "  )\n",
      ")\n"
     ]
    },
    {
     "name": "stderr",
     "output_type": "stream",
     "text": [
      "/Users/cjb60/github/binary_gan/networks/model_resnet_64px_prog.py:79: UserWarning: nn.init.xavier_uniform is now deprecated in favor of nn.init.xavier_uniform_.\n",
      "  nn.init.xavier_uniform(self.fc.weight.data, 1.)\n"
     ]
    }
   ],
   "source": [
    "gen, _ = model_resnet_64px_prog.get_network(z_dim=128, sigm=True)"
   ]
  },
  {
   "cell_type": "markdown",
   "metadata": {},
   "source": [
    "Download `g_100.pkl` from here: https://mega.nz/#!sP5TmQgL!G3t_928bR3uQRmjETOHfK_xAjISKPYJ61iGvedkL7A4 and place it in the `models/` folder"
   ]
  },
  {
   "cell_type": "code",
   "execution_count": 157,
   "metadata": {},
   "outputs": [],
   "source": [
    "dat = torch.load(\"models/g_100.pkl\")\n",
    "gen.load_state_dict(dat)"
   ]
  },
  {
   "cell_type": "code",
   "execution_count": 125,
   "metadata": {},
   "outputs": [],
   "source": [
    "z_dim = 128"
   ]
  },
  {
   "cell_type": "code",
   "execution_count": 126,
   "metadata": {},
   "outputs": [
    {
     "data": {
      "text/plain": [
       "Generator(\n",
       "  (dense): Linear(in_features=128, out_features=8192, bias=True)\n",
       "  (final): Conv2d(64, 3, kernel_size=(3, 3), stride=(1, 1), padding=(1, 1))\n",
       "  (rbn1): ResBlockGenerator(\n",
       "    (conv1): Conv2d(512, 512, kernel_size=(3, 3), stride=(1, 1), padding=(1, 1))\n",
       "    (conv2): Conv2d(512, 512, kernel_size=(3, 3), stride=(1, 1), padding=(1, 1))\n",
       "    (bn): BatchNorm2d(512, eps=1e-05, momentum=0.1, affine=True, track_running_stats=True)\n",
       "    (relu): ReLU()\n",
       "    (ups): Upsample(scale_factor=2, mode=nearest)\n",
       "    (bn2): BatchNorm2d(512, eps=1e-05, momentum=0.1, affine=True, track_running_stats=True)\n",
       "    (bypass): Sequential(\n",
       "      (0): Upsample(scale_factor=2, mode=nearest)\n",
       "    )\n",
       "  )\n",
       "  (rbn2): ResBlockGenerator(\n",
       "    (conv1): Conv2d(512, 256, kernel_size=(3, 3), stride=(1, 1), padding=(1, 1))\n",
       "    (conv2): Conv2d(256, 256, kernel_size=(3, 3), stride=(1, 1), padding=(1, 1))\n",
       "    (bn): BatchNorm2d(512, eps=1e-05, momentum=0.1, affine=True, track_running_stats=True)\n",
       "    (relu): ReLU()\n",
       "    (ups): Upsample(scale_factor=2, mode=nearest)\n",
       "    (bn2): BatchNorm2d(256, eps=1e-05, momentum=0.1, affine=True, track_running_stats=True)\n",
       "    (bypass): Sequential(\n",
       "      (0): Upsample(scale_factor=2, mode=nearest)\n",
       "      (1): Conv2d(512, 256, kernel_size=(1, 1), stride=(1, 1))\n",
       "    )\n",
       "  )\n",
       "  (rbn3): ResBlockGenerator(\n",
       "    (conv1): Conv2d(256, 128, kernel_size=(3, 3), stride=(1, 1), padding=(1, 1))\n",
       "    (conv2): Conv2d(128, 128, kernel_size=(3, 3), stride=(1, 1), padding=(1, 1))\n",
       "    (bn): BatchNorm2d(256, eps=1e-05, momentum=0.1, affine=True, track_running_stats=True)\n",
       "    (relu): ReLU()\n",
       "    (ups): Upsample(scale_factor=2, mode=nearest)\n",
       "    (bn2): BatchNorm2d(128, eps=1e-05, momentum=0.1, affine=True, track_running_stats=True)\n",
       "    (bypass): Sequential(\n",
       "      (0): Upsample(scale_factor=2, mode=nearest)\n",
       "      (1): Conv2d(256, 128, kernel_size=(1, 1), stride=(1, 1))\n",
       "    )\n",
       "  )\n",
       "  (rbn4): ResBlockGenerator(\n",
       "    (conv1): Conv2d(128, 64, kernel_size=(3, 3), stride=(1, 1), padding=(1, 1))\n",
       "    (conv2): Conv2d(64, 64, kernel_size=(3, 3), stride=(1, 1), padding=(1, 1))\n",
       "    (bn): BatchNorm2d(128, eps=1e-05, momentum=0.1, affine=True, track_running_stats=True)\n",
       "    (relu): ReLU()\n",
       "    (ups): Upsample(scale_factor=2, mode=nearest)\n",
       "    (bn2): BatchNorm2d(64, eps=1e-05, momentum=0.1, affine=True, track_running_stats=True)\n",
       "    (bypass): Sequential(\n",
       "      (0): Upsample(scale_factor=2, mode=nearest)\n",
       "      (1): Conv2d(128, 64, kernel_size=(1, 1), stride=(1, 1))\n",
       "    )\n",
       "  )\n",
       "  (bn): BatchNorm2d(64, eps=1e-05, momentum=0.1, affine=True, track_running_stats=True)\n",
       "  (relu): ReLU()\n",
       "  (tanh): Tanh()\n",
       ")"
      ]
     },
     "execution_count": 126,
     "metadata": {},
     "output_type": "execute_result"
    }
   ],
   "source": [
    "gen.eval()"
   ]
  },
  {
   "cell_type": "code",
   "execution_count": 12,
   "metadata": {},
   "outputs": [],
   "source": [
    "import ipywidgets as widgets\n",
    "from IPython.display import clear_output\n",
    "from ipywidgets import IntSlider, Output\n",
    "from ipywidgets.widgets.interaction import show_inline_matplotlib_plots\n",
    "import matplotlib.pyplot as plt\n",
    "%matplotlib inline"
   ]
  },
  {
   "cell_type": "code",
   "execution_count": 13,
   "metadata": {},
   "outputs": [],
   "source": [
    "def grid_from_z(zval):\n",
    "    sz = int(np.ceil(np.sqrt(len(zval))))\n",
    "    grid = np.zeros((1, sz, sz))\n",
    "    c = 0\n",
    "    for i in range(sz):\n",
    "        for j in range(sz):\n",
    "            if c == len(zval):\n",
    "                return grid\n",
    "            grid[0, i, j] = zval[c]\n",
    "            c += 1\n",
    "    return grid"
   ]
  },
  {
   "cell_type": "code",
   "execution_count": 22,
   "metadata": {},
   "outputs": [],
   "source": [
    "def sample(bs):\n",
    "    z = np.random.binomial(1, 0.5, size=(bs, z_dim)).astype(np.float32)\n",
    "    return z"
   ]
  },
  {
   "cell_type": "markdown",
   "metadata": {},
   "source": [
    "-----------"
   ]
  },
  {
   "cell_type": "markdown",
   "metadata": {},
   "source": [
    "## Randomly generating individual images"
   ]
  },
  {
   "cell_type": "code",
   "execution_count": 127,
   "metadata": {},
   "outputs": [
    {
     "data": {
      "application/vnd.jupyter.widget-view+json": {
       "model_id": "6303e47a494f4890a57a1df0c2c1a956",
       "version_major": 2,
       "version_minor": 0
      },
      "text/plain": [
       "Button(button_style='info', description='Generate image', icon='check', style=ButtonStyle(), tooltip='Click me…"
      ]
     },
     "metadata": {},
     "output_type": "display_data"
    },
    {
     "data": {
      "application/vnd.jupyter.widget-view+json": {
       "model_id": "2e8022f681dc4555a6816b86235e23ec",
       "version_major": 2,
       "version_minor": 0
      },
      "text/plain": [
       "Output()"
      ]
     },
     "metadata": {},
     "output_type": "display_data"
    }
   ],
   "source": [
    "b = widgets.Button(\n",
    "    description='Generate image',\n",
    "    disabled=False,\n",
    "    button_style='info',\n",
    "    tooltip='Click me',\n",
    "    icon='check'\n",
    ")\n",
    "display(b)\n",
    "\n",
    "out = widgets.Output()\n",
    "display(out)\n",
    "\n",
    "def on_button_clicked(b):\n",
    "    with out:\n",
    "        clear_output()\n",
    "        z = sample(1)\n",
    "        z_torch = (torch.from_numpy(z).float() - 0.5) / 0.5\n",
    "        grid = grid_from_z(z[0])\n",
    "\n",
    "        f, axes = plt.subplots(1, 2)\n",
    "        axes[0].matshow(grid[0])\n",
    "        axes[0].set_title('z')\n",
    "        gen_img = (gen(z_torch)*0.5 + 0.5).detach().numpy()[0]\n",
    "        axes[1].imshow(gen_img.swapaxes(0,1).swapaxes(1,2), interpolation='bilinear')\n",
    "        axes[1].set_title('G(z)')\n",
    "        # \n",
    "        for ax in axes:\n",
    "            ax.set_xticklabels([])\n",
    "            ax.set_xticks([])\n",
    "            ax.set_yticklabels([])\n",
    "            ax.set_yticks([])\n",
    "        axes[0].grid(color='w', linestyle='-', linewidth=1)\n",
    "        axes[0].xaxis.set_ticks(np.arange(12)+0.5)\n",
    "        axes[0].yaxis.set_ticks(np.arange(12)+0.5)\n",
    "        show_inline_matplotlib_plots()     \n",
    "\n",
    "b.on_click(on_button_clicked)"
   ]
  },
  {
   "cell_type": "markdown",
   "metadata": {},
   "source": [
    "-----------"
   ]
  },
  {
   "cell_type": "markdown",
   "metadata": {},
   "source": [
    "## Combining two randomly generated images via bitwise OR"
   ]
  },
  {
   "cell_type": "code",
   "execution_count": 128,
   "metadata": {},
   "outputs": [
    {
     "data": {
      "application/vnd.jupyter.widget-view+json": {
       "model_id": "57bb8ae47410428ea350d902f0de75e9",
       "version_major": 2,
       "version_minor": 0
      },
      "text/plain": [
       "Button(button_style='info', description='Generate image', icon='check', style=ButtonStyle(), tooltip='Click me…"
      ]
     },
     "metadata": {},
     "output_type": "display_data"
    },
    {
     "data": {
      "application/vnd.jupyter.widget-view+json": {
       "model_id": "28972b20295945058ddf31cd5afd6a7e",
       "version_major": 2,
       "version_minor": 0
      },
      "text/plain": [
       "Output()"
      ]
     },
     "metadata": {},
     "output_type": "display_data"
    }
   ],
   "source": [
    "b2 = widgets.Button(\n",
    "    description='Generate image',\n",
    "    disabled=False,\n",
    "    button_style='info',\n",
    "    tooltip='Click me',\n",
    "    icon='check'\n",
    ")\n",
    "display(b2)\n",
    "\n",
    "out2 = widgets.Output()\n",
    "display(out2)\n",
    "\n",
    "def on_button_clicked(b):\n",
    "    with out2:\n",
    "        clear_output()\n",
    "        \n",
    "        z = sample(2)\n",
    "        z_torch = (torch.from_numpy(z).float() - 0.5) / 0.5      \n",
    "        z_mix = (z[0].astype(np.bool) | z[1].astype(np.bool)).astype(np.float32)  \n",
    "        z_mix_torch = (torch.from_numpy(z_mix).float() - 0.5) / 0.5\n",
    "        \n",
    "        grid1 = grid_from_z(z[0])\n",
    "        grid2 = grid_from_z(z[1])\n",
    "        grid3 = grid_from_z(z_mix)\n",
    "\n",
    "        f, axes = plt.subplots(1, 6, figsize=(10,12))\n",
    "        f.set_figheight(10)\n",
    "        f.set_figwidth(15)\n",
    "        axes[0].matshow(grid1[0])\n",
    "        axes[0].set_title('z1')\n",
    "        gen_img = (gen(z_torch)*0.5 + 0.5).detach().numpy()\n",
    "        axes[1].imshow(gen_img[0].swapaxes(0,1).swapaxes(1,2), interpolation='bilinear')\n",
    "        axes[1].set_title('G(z1)')\n",
    "        axes[2].matshow(grid2[0])\n",
    "        axes[2].set_title('z2')\n",
    "        axes[3].imshow(gen_img[1].swapaxes(0,1).swapaxes(1,2), interpolation='bilinear')\n",
    "        axes[3].set_title('G(z2)')\n",
    "        axes[4].matshow(grid3[0])\n",
    "        axes[4].set_title('z1 OR z2')\n",
    "        gen_mix_img = (gen(z_mix_torch)*0.5 + 0.5).detach().numpy()[0]\n",
    "        axes[5].imshow(gen_mix_img.swapaxes(0,1).swapaxes(1,2), interpolation='bilinear')\n",
    "        axes[5].set_title('G(z1 OR z2)')\n",
    "        for b, ax in enumerate(axes):\n",
    "            ax.set_xticklabels([])\n",
    "            ax.set_xticks([])\n",
    "            ax.set_yticklabels([])\n",
    "            ax.set_yticks([])\n",
    "            if b in [0,2,4]:\n",
    "                axes[b].grid(color='w', linestyle='-', linewidth=1)\n",
    "                axes[b].xaxis.set_ticks(np.arange(12)+0.5)\n",
    "                axes[b].yaxis.set_ticks(np.arange(12)+0.5)\n",
    "        \n",
    "        show_inline_matplotlib_plots()\n",
    "\n",
    "b2.on_click(on_button_clicked)"
   ]
  },
  {
   "cell_type": "markdown",
   "metadata": {},
   "source": [
    "----------"
   ]
  },
  {
   "cell_type": "markdown",
   "metadata": {},
   "source": [
    "## Combining two randomly generated images via a continuous interpolation"
   ]
  },
  {
   "cell_type": "code",
   "execution_count": 166,
   "metadata": {},
   "outputs": [
    {
     "data": {
      "application/vnd.jupyter.widget-view+json": {
       "model_id": "cf7754887a824eb3bc1a255a14eae06f",
       "version_major": 2,
       "version_minor": 0
      },
      "text/plain": [
       "FloatSlider(value=0.0, continuous_update=False, description='Interp coef:', max=1.0, readout_format='.1f')"
      ]
     },
     "metadata": {},
     "output_type": "display_data"
    },
    {
     "data": {
      "application/vnd.jupyter.widget-view+json": {
       "model_id": "27e52059b0e3409581632e851d8d6e42",
       "version_major": 2,
       "version_minor": 0
      },
      "text/plain": [
       "Button(button_style='info', description='Generate image', icon='check', style=ButtonStyle(), tooltip='Click me…"
      ]
     },
     "metadata": {},
     "output_type": "display_data"
    },
    {
     "data": {
      "application/vnd.jupyter.widget-view+json": {
       "model_id": "3a30d41dbad148c7ab46acadfa867f75",
       "version_major": 2,
       "version_minor": 0
      },
      "text/plain": [
       "Output()"
      ]
     },
     "metadata": {},
     "output_type": "display_data"
    }
   ],
   "source": [
    "slider_int = widgets.FloatSlider(\n",
    "    value=0,\n",
    "    min=0,\n",
    "    max=1,\n",
    "    step=0.1,\n",
    "    description='Interp coef:',\n",
    "    disabled=False,\n",
    "    continuous_update=False,\n",
    "    orientation='horizontal',\n",
    "    readout=True,\n",
    "    readout_format='.1f',\n",
    ")\n",
    "display(slider_int)\n",
    "\n",
    "b_int = widgets.Button(\n",
    "    description='Generate image',\n",
    "    disabled=False,\n",
    "    button_style='info',\n",
    "    tooltip='Click me',\n",
    "    icon='check'\n",
    ")\n",
    "display(b_int)\n",
    "\n",
    "out_int = widgets.Output()\n",
    "display(out_int)\n",
    "\n",
    "def on_button_clicked(b):\n",
    "    with out_int:\n",
    "        clear_output()\n",
    "        \n",
    "        z = sample(2)\n",
    "        z_torch = (torch.from_numpy(z).float() - 0.5) / 0.5      \n",
    "        z_mix = slider_int.value*z[0] + (1-slider_int.value)*z[1]\n",
    "        z_mix_torch = (torch.from_numpy(z_mix).float() - 0.5) / 0.5\n",
    "        \n",
    "        grid1 = grid_from_z(z[0])\n",
    "        grid2 = grid_from_z(z[1])\n",
    "        grid3 = grid_from_z(z_mix)\n",
    "\n",
    "        f, axes = plt.subplots(1, 6, figsize=(10,12))\n",
    "        f.set_figheight(10)\n",
    "        f.set_figwidth(15)\n",
    "        axes[0].matshow(grid1[0])\n",
    "        axes[0].set_title('z1')\n",
    "        gen_img = (gen(z_torch)*0.5 + 0.5).detach().numpy()\n",
    "        axes[1].imshow(gen_img[0].swapaxes(0,1).swapaxes(1,2), interpolation='bilinear')\n",
    "        axes[1].set_title('G(z1)')\n",
    "        axes[2].matshow(grid2[0])\n",
    "        axes[2].set_title('z2')\n",
    "        axes[3].imshow(gen_img[1].swapaxes(0,1).swapaxes(1,2), interpolation='bilinear')\n",
    "        axes[3].set_title('G(z2)')\n",
    "        axes[4].matshow(grid3[0])\n",
    "        axes[4].set_title('interp z')\n",
    "        gen_mix_img = (gen(z_mix_torch)*0.5 + 0.5).detach().numpy()[0]\n",
    "        axes[5].imshow(gen_mix_img.swapaxes(0,1).swapaxes(1,2), interpolation='bilinear')\n",
    "        axes[5].set_title('G(interp)')\n",
    "        for b, ax in enumerate(axes):\n",
    "            ax.set_xticklabels([])\n",
    "            ax.set_xticks([])\n",
    "            ax.set_yticklabels([])\n",
    "            ax.set_yticks([])\n",
    "            if b in [0,2,4]:\n",
    "                axes[b].grid(color='w', linestyle='-', linewidth=1)\n",
    "                axes[b].xaxis.set_ticks(np.arange(12)+0.5)\n",
    "                axes[b].yaxis.set_ticks(np.arange(12)+0.5)\n",
    "        \n",
    "        show_inline_matplotlib_plots()\n",
    "\n",
    "b_int.on_click(on_button_clicked)"
   ]
  },
  {
   "cell_type": "code",
   "execution_count": 161,
   "metadata": {},
   "outputs": [
    {
     "data": {
      "text/plain": [
       "0.4"
      ]
     },
     "execution_count": 161,
     "metadata": {},
     "output_type": "execute_result"
    }
   ],
   "source": [
    "slider_int.value"
   ]
  },
  {
   "cell_type": "markdown",
   "metadata": {},
   "source": [
    "--------"
   ]
  },
  {
   "cell_type": "markdown",
   "metadata": {},
   "source": [
    "## Manually select the bits to turn on"
   ]
  },
  {
   "cell_type": "markdown",
   "metadata": {},
   "source": [
    "(Use your SHIFT/CMD keys to select multiple z's!)"
   ]
  },
  {
   "cell_type": "code",
   "execution_count": 129,
   "metadata": {},
   "outputs": [
    {
     "data": {
      "application/vnd.jupyter.widget-view+json": {
       "model_id": "9aaccf1fbdb14c09a6ce407620139b74",
       "version_major": 2,
       "version_minor": 0
      },
      "text/plain": [
       "SelectMultiple(description='zs', index=(1,), options=('z0', 'z1', 'z2', 'z3', 'z4', 'z5', 'z6', 'z7', 'z8', 'z…"
      ]
     },
     "metadata": {},
     "output_type": "display_data"
    },
    {
     "data": {
      "application/vnd.jupyter.widget-view+json": {
       "model_id": "5d1c53c1e6044e7981cbd972570bbd53",
       "version_major": 2,
       "version_minor": 0
      },
      "text/plain": [
       "Button(button_style='info', description='Generate image', icon='check', style=ButtonStyle(), tooltip='Click me…"
      ]
     },
     "metadata": {},
     "output_type": "display_data"
    },
    {
     "data": {
      "application/vnd.jupyter.widget-view+json": {
       "model_id": "bfaba29e71914eddbfee15d6ccbcbe8d",
       "version_major": 2,
       "version_minor": 0
      },
      "text/plain": [
       "Output()"
      ]
     },
     "metadata": {},
     "output_type": "display_data"
    }
   ],
   "source": [
    "selector = widgets.SelectMultiple(\n",
    "    options=['z%i'%i for i in range(128)],\n",
    "    value=['z1'],\n",
    "    rows=16,\n",
    "    description='zs',\n",
    "    disabled=False,\n",
    ")\n",
    "b3 = widgets.Button(\n",
    "    description='Generate image',\n",
    "    disabled=False,\n",
    "    button_style='info',\n",
    "    tooltip='Click me',\n",
    "    icon='check'\n",
    ")\n",
    "\n",
    "display(selector)\n",
    "display(b3)\n",
    "\n",
    "out3 = widgets.Output()\n",
    "display(out3)\n",
    "\n",
    "def on_button_clicked(b):\n",
    "    with out3:\n",
    "        clear_output()\n",
    "        \n",
    "        z = np.zeros((1, z_dim)).astype(np.float32)\n",
    "        z[:, selector.index] += 1.\n",
    "\n",
    "        z_torch = (torch.from_numpy(z).float() - 0.5) / 0.5\n",
    "        grid = grid_from_z(z[0])\n",
    "\n",
    "        f, (ax1, ax2) = plt.subplots(1, 2)\n",
    "        ax1.matshow(grid[0])\n",
    "        ax1.set_xticklabels([])\n",
    "        ax1.set_xticks([])\n",
    "        ax1.set_yticklabels([])\n",
    "        ax1.set_yticks([])\n",
    "        ax1.grid(color='w', linestyle='-', linewidth=1)\n",
    "        ax1.set_title('z')\n",
    "        ax1.xaxis.set_ticks(np.arange(12)+0.5)\n",
    "        ax1.yaxis.set_ticks(np.arange(12)+0.5)\n",
    "        gen_img = (gen(z_torch)*0.5 + 0.5).detach().numpy()[0]\n",
    "        ax2.imshow(gen_img.swapaxes(0,1).swapaxes(1,2), interpolation='bilinear')\n",
    "        ax2.set_title('G(z)')\n",
    "        ax2.axis('off')\n",
    "        show_inline_matplotlib_plots()\n",
    "\n",
    "b3.on_click(on_button_clicked)"
   ]
  },
  {
   "cell_type": "markdown",
   "metadata": {},
   "source": [
    "-----"
   ]
  },
  {
   "cell_type": "markdown",
   "metadata": {},
   "source": [
    "## Progressively turning on more bits"
   ]
  },
  {
   "cell_type": "code",
   "execution_count": 130,
   "metadata": {},
   "outputs": [
    {
     "data": {
      "application/vnd.jupyter.widget-view+json": {
       "model_id": "57186b580f4a4b519c68ff70de32f5fc",
       "version_major": 2,
       "version_minor": 0
      },
      "text/plain": [
       "IntSlider(value=0, continuous_update=False, description='# bits on:', max=127)"
      ]
     },
     "metadata": {},
     "output_type": "display_data"
    },
    {
     "data": {
      "application/vnd.jupyter.widget-view+json": {
       "model_id": "98fc40ccb69b4c23abf86c76906d8743",
       "version_major": 2,
       "version_minor": 0
      },
      "text/plain": [
       "Button(button_style='info', description='Generate image', icon='check', style=ButtonStyle(), tooltip='Click me…"
      ]
     },
     "metadata": {},
     "output_type": "display_data"
    },
    {
     "data": {
      "application/vnd.jupyter.widget-view+json": {
       "model_id": "a7855ace7ae7460ebe532f28f244eae5",
       "version_major": 2,
       "version_minor": 0
      },
      "text/plain": [
       "Output()"
      ]
     },
     "metadata": {},
     "output_type": "display_data"
    }
   ],
   "source": [
    "slider = widgets.IntSlider(\n",
    "    value=0,\n",
    "    min=0,\n",
    "    max=127,\n",
    "    step=1,\n",
    "    description='# bits on:',\n",
    "    disabled=False,\n",
    "    continuous_update=False,\n",
    "    orientation='horizontal',\n",
    "    readout=True,\n",
    "    readout_format='d'\n",
    ")\n",
    "display(slider)\n",
    "\n",
    "b4 = widgets.Button(\n",
    "    description='Generate image',\n",
    "    disabled=False,\n",
    "    button_style='info',\n",
    "    tooltip='Click me',\n",
    "    icon='check'\n",
    ")\n",
    "\n",
    "display(b4)\n",
    "\n",
    "out4 = widgets.Output()\n",
    "display(out4)\n",
    "\n",
    "def on_button_clicked(b):\n",
    "    with out4:\n",
    "        clear_output()\n",
    "        z = np.zeros((1, z_dim)).astype(np.float32)\n",
    "        z[:, 0:slider.value] += 1.\n",
    "\n",
    "        z_torch = (torch.from_numpy(z).float() - 0.5) / 0.5\n",
    "        grid = grid_from_z(z[0])\n",
    "\n",
    "        f, (ax1, ax2) = plt.subplots(1, 2)\n",
    "        ax1.matshow(grid[0])\n",
    "        ax1.set_title('z')\n",
    "        ax1.set_xticklabels([])\n",
    "        ax1.set_xticks([])\n",
    "        ax1.set_yticklabels([])\n",
    "        ax1.set_yticks([])\n",
    "        ax1.grid(color='w', linestyle='-', linewidth=1)\n",
    "        ax1.xaxis.set_ticks(np.arange(12)+0.5)\n",
    "        ax1.yaxis.set_ticks(np.arange(12)+0.5)\n",
    "        gen_img = (gen(z_torch)*0.5 + 0.5).detach().numpy()[0]\n",
    "        ax2.imshow(gen_img.swapaxes(0,1).swapaxes(1,2), interpolation='bilinear')\n",
    "        ax2.set_title('G(z)')\n",
    "        ax2.axis('off')\n",
    "        show_inline_matplotlib_plots()\n",
    "\n",
    "b4.on_click(on_button_clicked)"
   ]
  },
  {
   "cell_type": "markdown",
   "metadata": {},
   "source": [
    "--------"
   ]
  },
  {
   "cell_type": "markdown",
   "metadata": {},
   "source": [
    "## Turn off a bit at one position"
   ]
  },
  {
   "cell_type": "code",
   "execution_count": 131,
   "metadata": {},
   "outputs": [
    {
     "data": {
      "application/vnd.jupyter.widget-view+json": {
       "model_id": "170d37cfa0bf4db9a427eba8878605ed",
       "version_major": 2,
       "version_minor": 0
      },
      "text/plain": [
       "IntSlider(value=0, continuous_update=False, description='Position #', max=127)"
      ]
     },
     "metadata": {},
     "output_type": "display_data"
    },
    {
     "data": {
      "application/vnd.jupyter.widget-view+json": {
       "model_id": "da126d48a0304766a9ed3c3b6d931ba1",
       "version_major": 2,
       "version_minor": 0
      },
      "text/plain": [
       "Button(button_style='info', description='Generate image', icon='check', style=ButtonStyle(), tooltip='Click me…"
      ]
     },
     "metadata": {},
     "output_type": "display_data"
    },
    {
     "data": {
      "application/vnd.jupyter.widget-view+json": {
       "model_id": "0a8a455c3f9d4b31a9109ef3a758456a",
       "version_major": 2,
       "version_minor": 0
      },
      "text/plain": [
       "Output()"
      ]
     },
     "metadata": {},
     "output_type": "display_data"
    }
   ],
   "source": [
    "slider2 = widgets.IntSlider(\n",
    "    value=0,\n",
    "    min=0,\n",
    "    max=127,\n",
    "    step=1,\n",
    "    description='Position #',\n",
    "    disabled=False,\n",
    "    continuous_update=False,\n",
    "    orientation='horizontal',\n",
    "    readout=True,\n",
    "    readout_format='d',\n",
    ")\n",
    "display(slider2)\n",
    "\n",
    "b5 = widgets.Button(\n",
    "    description='Generate image',\n",
    "    disabled=False,\n",
    "    button_style='info',\n",
    "    tooltip='Click me',\n",
    "    icon='check'\n",
    ")\n",
    "\n",
    "display(b5)\n",
    "\n",
    "out5 = widgets.Output()\n",
    "display(out5)\n",
    "\n",
    "def on_button_clicked(b):\n",
    "    with out5:\n",
    "        clear_output()\n",
    "        z = np.ones((1, z_dim)).astype(np.float32)\n",
    "        z[:, slider2.value] = 0.\n",
    "\n",
    "        z_torch = (torch.from_numpy(z).float() - 0.5) / 0.5\n",
    "        grid = grid_from_z(z[0])\n",
    "\n",
    "        f, (ax1, ax2) = plt.subplots(1, 2)\n",
    "        ax1.matshow(grid[0])\n",
    "        ax1.set_title('z')\n",
    "        ax1.set_xticklabels([])\n",
    "        ax1.set_xticks([])\n",
    "        ax1.set_yticklabels([])\n",
    "        ax1.set_yticks([])\n",
    "        ax1.grid(color='w', linestyle='-', linewidth=1)\n",
    "        ax1.xaxis.set_ticks(np.arange(12)+0.5)\n",
    "        ax1.yaxis.set_ticks(np.arange(12)+0.5)\n",
    "        gen_img = (gen(z_torch)*0.5 + 0.5).detach().numpy()[0]\n",
    "        ax2.imshow(gen_img.swapaxes(0,1).swapaxes(1,2), interpolation='bilinear')\n",
    "        ax2.set_title('G(z)')\n",
    "        ax2.axis('off')\n",
    "        show_inline_matplotlib_plots()\n",
    "\n",
    "b5.on_click(on_button_clicked)"
   ]
  },
  {
   "cell_type": "markdown",
   "metadata": {},
   "source": [
    "------"
   ]
  },
  {
   "cell_type": "code",
   "execution_count": 147,
   "metadata": {},
   "outputs": [],
   "source": [
    "%%bash\n",
    "rm -r tmp\n",
    "mkdir -p tmp/images\n",
    "mkdir -p tmp/codes"
   ]
  },
  {
   "cell_type": "code",
   "execution_count": 148,
   "metadata": {},
   "outputs": [
    {
     "data": {
      "text/plain": [
       "(128, 128)"
      ]
     },
     "execution_count": 148,
     "metadata": {},
     "output_type": "execute_result"
    }
   ],
   "source": [
    "rand_z = sample(128)\n",
    "rand_z.shape"
   ]
  },
  {
   "cell_type": "code",
   "execution_count": 149,
   "metadata": {},
   "outputs": [],
   "source": [
    "# https://jakevdp.github.io/blog/2013/08/07/conways-game-of-life/\n",
    "def life_step(X):\n",
    "    \"\"\"Game of life step using generator expressions\"\"\"\n",
    "    nbrs_count = sum(np.roll(np.roll(X, i, 0), j, 1)\n",
    "                     for i in (-1, 0, 1) for j in (-1, 0, 1)\n",
    "                     if (i != 0 or j != 0))\n",
    "    return (nbrs_count == 3) | (X & (nbrs_count == 2))\n"
   ]
  },
  {
   "cell_type": "code",
   "execution_count": 150,
   "metadata": {},
   "outputs": [
    {
     "name": "stdout",
     "output_type": "stream",
     "text": [
      "Progress: 0\n"
     ]
    },
    {
     "name": "stderr",
     "output_type": "stream",
     "text": [
      "/Users/cjb60/anaconda2/envs/py36/lib/python3.6/site-packages/torch/nn/modules/upsampling.py:122: UserWarning: nn.Upsampling is deprecated. Use nn.functional.interpolate instead.\n",
      "  warnings.warn(\"nn.Upsampling is deprecated. Use nn.functional.interpolate instead.\")\n"
     ]
    },
    {
     "name": "stdout",
     "output_type": "stream",
     "text": [
      "58\n",
      "56\n",
      "46\n",
      "35\n",
      "38\n",
      "41\n",
      "37\n",
      "36\n",
      "40\n",
      "42\n",
      "34\n",
      "32\n",
      "30\n",
      "42\n",
      "32\n",
      "33\n",
      "37\n",
      "51\n",
      "42\n",
      "45\n",
      "51\n",
      "37\n",
      "39\n",
      "37\n",
      "43\n",
      "27\n",
      "31\n",
      "37\n",
      "37\n",
      "39\n",
      "32\n",
      "38\n",
      "44\n",
      "52\n",
      "32\n",
      "38\n",
      "33\n",
      "25\n",
      "21\n",
      "22\n",
      "26\n",
      "29\n",
      "27\n",
      "20\n",
      "17\n",
      "18\n",
      "19\n",
      "17\n",
      "23\n",
      "24\n",
      "29\n",
      "23\n",
      "26\n",
      "30\n",
      "25\n",
      "31\n",
      "22\n",
      "23\n",
      "29\n",
      "22\n",
      "26\n",
      "20\n",
      "28\n",
      "25\n",
      "24\n",
      "24\n",
      "32\n",
      "27\n",
      "34\n",
      "21\n",
      "17\n",
      "11\n",
      "9\n",
      "10\n",
      "12\n",
      "16\n",
      "17\n",
      "22\n",
      "18\n",
      "17\n",
      "20\n",
      "25\n",
      "24\n",
      "20\n",
      "25\n",
      "33\n",
      "30\n",
      "27\n",
      "31\n",
      "28\n",
      "17\n",
      "18\n",
      "10\n",
      "6\n",
      "5\n",
      "3\n",
      "2\n",
      "0\n",
      "0\n",
      "0\n"
     ]
    }
   ],
   "source": [
    "N = 100\n",
    "X = np.zeros((12, 12), dtype=bool)\n",
    "X = np.random.random((12, 12)) > 0.7\n",
    "for j in range(N):\n",
    "    if j % 100 == 0:\n",
    "        print(\"Progress: %i\" % j)\n",
    "    this_z = X.flatten()[0:128].astype(np.float32)\n",
    "    \n",
    "    plt.matshow(grid_from_z(this_z)[0])\n",
    "    num = '{:03d}'.format(j)\n",
    "    plt.savefig('tmp/codes/%s.png' % num)\n",
    "    plt.axis('off')\n",
    "    plt.title('z')\n",
    "    plt.close()\n",
    "    \n",
    "    z_torch = (torch.from_numpy(this_z).float() - 0.5) / 0.5\n",
    "    plt.imshow(gen(z_torch).detach().numpy()[0].swapaxes(0,1).swapaxes(1,2)*0.5 + 0.5,\n",
    "              interpolation='bilinear')\n",
    "    plt.savefig('tmp/images/%s.png' % num)\n",
    "    plt.close()\n",
    "    \n",
    "    X = life_step(X)\n",
    "    print(np.sum(X))\n",
    "    "
   ]
  },
  {
   "cell_type": "code",
   "execution_count": 151,
   "metadata": {},
   "outputs": [],
   "source": [
    "from skimage.io import imread, imsave"
   ]
  },
  {
   "cell_type": "code",
   "execution_count": 152,
   "metadata": {},
   "outputs": [
    {
     "name": "stderr",
     "output_type": "stream",
     "text": [
      "rm: tmp/final: No such file or directory\n"
     ]
    }
   ],
   "source": [
    "%%bash\n",
    "rm -r tmp/final\n",
    "mkdir tmp/final"
   ]
  },
  {
   "cell_type": "code",
   "execution_count": 153,
   "metadata": {},
   "outputs": [],
   "source": [
    "for img_filename in glob.glob(\"tmp/images/*.png\"):\n",
    "    code_filename = \"tmp/codes/%s\" % os.path.basename(img_filename)\n",
    "    img1 = imread(img_filename)\n",
    "    img2 = imread(code_filename)\n",
    "    imgf = np.hstack((img2, img1))\n",
    "    imsave(fname=\"tmp/final/%s\" % os.path.basename(img_filename), arr=imgf)"
   ]
  },
  {
   "cell_type": "markdown",
   "metadata": {},
   "source": [
    "----"
   ]
  },
  {
   "cell_type": "code",
   "execution_count": null,
   "metadata": {},
   "outputs": [],
   "source": []
  }
 ],
 "metadata": {
  "kernelspec": {
   "display_name": "Python 3",
   "language": "python",
   "name": "python3"
  },
  "language_info": {
   "codemirror_mode": {
    "name": "ipython",
    "version": 3
   },
   "file_extension": ".py",
   "mimetype": "text/x-python",
   "name": "python",
   "nbconvert_exporter": "python",
   "pygments_lexer": "ipython3",
   "version": "3.6.6"
  }
 },
 "nbformat": 4,
 "nbformat_minor": 2
}
